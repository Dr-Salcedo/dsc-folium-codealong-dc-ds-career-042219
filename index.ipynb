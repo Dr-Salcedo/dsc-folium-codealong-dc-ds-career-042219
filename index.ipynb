{
 "cells": [
  {
   "cell_type": "markdown",
   "metadata": {},
   "source": [
    "# Folium - Codealong\n",
    "\n",
    "## Introduction \n",
    "\n",
    "In this codealong, we'll take a look at how to create an interactive map using the Folium package. From there, we'll return to APIs in the final lab for the day where you'll make an interactive map from your requests to the API!\n",
    "\n",
    "## Objectives\n",
    "\n",
    "You will be able to: \n",
    "* Create maps with Folium"
   ]
  },
  {
   "cell_type": "markdown",
   "metadata": {},
   "source": [
    "## Creating a Basemap\n",
    "\n",
    "Here we'll take a look at creating a basemap over the London region!"
   ]
  },
  {
   "cell_type": "code",
   "execution_count": 1,
   "metadata": {
    "scrolled": false
   },
   "outputs": [
    {
     "data": {
      "text/html": [
       "<div style=\"width:100%;\"><div style=\"position:relative;width:100%;height:0;padding-bottom:60%;\"><iframe src=\"data:text/html;charset=utf-8;base64,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\" style=\"position:absolute;width:100%;height:100%;left:0;top:0;border:none !important;\" allowfullscreen webkitallowfullscreen mozallowfullscreen></iframe></div></div>"
      ],
      "text/plain": [
       "<folium.folium.Map at 0x7f97a1658470>"
      ]
     },
     "execution_count": 1,
     "metadata": {},
     "output_type": "execute_result"
    }
   ],
   "source": [
    "import folium\n",
    "\n",
    "lat = 39.42719\n",
    "long = -75.25751\n",
    "\n",
    "#Create a map of the area\n",
    "base_map = folium.Map([lat, long], zoom_start=9)\n",
    "base_map"
   ]
  },
  {
   "cell_type": "code",
   "execution_count": 5,
   "metadata": {},
   "outputs": [
    {
     "ename": "SyntaxError",
     "evalue": "invalid syntax (<ipython-input-5-19e95c6c65bf>, line 1)",
     "output_type": "error",
     "traceback": [
      "\u001b[0;36m  File \u001b[0;32m\"<ipython-input-5-19e95c6c65bf>\"\u001b[0;36m, line \u001b[0;32m1\u001b[0m\n\u001b[0;31m    function getLatLngByZipcode(8302)\u001b[0m\n\u001b[0m                              ^\u001b[0m\n\u001b[0;31mSyntaxError\u001b[0m\u001b[0;31m:\u001b[0m invalid syntax\n"
     ]
    }
   ],
   "source": []
  },
  {
   "cell_type": "markdown",
   "metadata": {},
   "source": [
    "## Adding Markers to the Map\n",
    "\n",
    "Great! Now let's take a look at adding little markers to our map!\n",
    "\n",
    "**Note:** you may have to zoom out to see all of the markers!"
   ]
  },
  {
   "cell_type": "code",
   "execution_count": 2,
   "metadata": {},
   "outputs": [
    {
     "data": {
      "text/html": [
       "<div style=\"width:100%;\"><div style=\"position:relative;width:100%;height:0;padding-bottom:60%;\"><iframe src=\"data:text/html;charset=utf-8;base64,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\" style=\"position:absolute;width:100%;height:100%;left:0;top:0;border:none !important;\" allowfullscreen webkitallowfullscreen mozallowfullscreen></iframe></div></div>"
      ],
      "text/plain": [
       "<folium.folium.Map at 0x7f97a1658470>"
      ]
     },
     "execution_count": 2,
     "metadata": {},
     "output_type": "execute_result"
    }
   ],
   "source": [
    "import numpy as np\n",
    "\n",
    "#Generate some random locations to add to our map\n",
    "x = [lat + np.random.uniform(-.1,.1) for i in range(20)]\n",
    "y = [long + np.random.uniform(-.1,.1) for i in range(20)]\n",
    "points = list(zip(x, y))\n",
    "for p in points:\n",
    "    lat = p[0]\n",
    "    long = p[1]\n",
    "    marker = folium.Marker(location=[lat, long])\n",
    "    marker.add_to(base_map)\n",
    "base_map"
   ]
  },
  {
   "cell_type": "markdown",
   "metadata": {},
   "source": [
    "## Adding Pop-up Boxes to Our Markers\n",
    "\n",
    "Often we may wish to not only place markers on the map, but to create interactive pop-ups which display information to that location. To do this, we can add a popup to our markers when adding them to the map! "
   ]
  },
  {
   "cell_type": "code",
   "execution_count": null,
   "metadata": {},
   "outputs": [],
   "source": [
    "for p in points:\n",
    "    lat = p[0]\n",
    "    long = p[1]\n",
    "    popup_text = \"Latitude: {}, Longitude: {}\".format(lat,long)\n",
    "    popup = folium.Popup(popup_text, parse_html=True)\n",
    "    marker = folium.Marker(location=[lat, long], popup=popup)\n",
    "    marker.add_to(base_map)\n",
    "base_map"
   ]
  },
  {
   "cell_type": "markdown",
   "metadata": {},
   "source": [
    "Now, if you click on the map markers, you should see a little information box pop up!\n",
    "\n",
    "## Summary \n",
    "\n",
    "In this codealong, we learned how to use Folium to create some cool interactive maps with only a few lines of python code! In the next lab, you'll synthesize your skills for the day together and create an interactive visualization map for data you retrieve from the Yelp API!"
   ]
  }
 ],
 "metadata": {
  "kernelspec": {
   "display_name": "Python 3",
   "language": "python",
   "name": "python3"
  },
  "language_info": {
   "codemirror_mode": {
    "name": "ipython",
    "version": 3
   },
   "file_extension": ".py",
   "mimetype": "text/x-python",
   "name": "python",
   "nbconvert_exporter": "python",
   "pygments_lexer": "ipython3",
   "version": "3.6.6"
  }
 },
 "nbformat": 4,
 "nbformat_minor": 2
}
